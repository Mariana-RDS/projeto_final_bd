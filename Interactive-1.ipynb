{
 "cells": [
  {
   "cell_type": "code",
   "execution_count": 8,
   "metadata": {},
   "outputs": [],
   "source": [
    "import sqlite3"
   ]
  },
  {
   "cell_type": "code",
   "execution_count": 9,
   "metadata": {},
   "outputs": [],
   "source": [
    "def create_table(database_name: str, table_name: str, columns: str):\n",
    "    \"\"\"Cria uma tabela em um banco de dados\n",
    "    Args:\n",
    "        database_name (str): Nome do banco de dados.\n",
    "        table_name (str): Nome da tabela.\n",
    "        columns (str): Definição das colunas da tabela.\n",
    "    \"\"\"\n",
    "    conn = sqlite3.connect(database_name)\n",
    "    cursor = conn.cursor()\n",
    "    cursor.execute(f\"\"\"\n",
    "        CREATE TABLE IF NOT EXISTS {table_name} ({columns})\n",
    "    \"\"\")\n",
    "    conn.close()"
   ]
  },
  {
   "cell_type": "code",
   "execution_count": 10,
   "metadata": {},
   "outputs": [],
   "source": [
    "def create_nomes_table(database_name: str):\n",
    "    conn = sqlite3.connect(database_name)\n",
    "    cursor = conn.cursor()\n",
    "    cursor.execute(\"\"\"\n",
    "        CREATE TABLE IF NOT EXISTS nomes (\n",
    "            id INTEGER PRIMARY KEY,\n",
    "            nome TEXT NOT NULL\n",
    "        )\n",
    "    \"\"\")\n",
    "    conn.close()"
   ]
  },
  {
   "cell_type": "code",
   "execution_count": 11,
   "metadata": {},
   "outputs": [],
   "source": [
    "def create_telefones_table(database_name: str):\n",
    "    conn = sqlite3.connect(database_name)\n",
    "    cursor = conn.cursor()\n",
    "    cursor.execute(\"\"\"\n",
    "        CREATE TABLE IF NOT EXISTS telefones (\n",
    "            id INTEGER PRIMARY KEY,\n",
    "            telefone TEXT NOT NULL\n",
    "        )\n",
    "    \"\"\")\n",
    "    conn.close()"
   ]
  },
  {
   "cell_type": "code",
   "execution_count": 12,
   "metadata": {},
   "outputs": [],
   "source": [
    "def create_emails_table(database_name: str):\n",
    "    conn = sqlite3.connect(database_name)\n",
    "    cursor = conn.cursor()\n",
    "    cursor.execute(\"\"\"\n",
    "        CREATE TABLE IF NOT EXISTS emails (\n",
    "            id INTEGER PRIMARY KEY,\n",
    "            email TEXT NOT NULL\n",
    "        )\n",
    "    \"\"\")\n",
    "    conn.close()"
   ]
  },
  {
   "cell_type": "code",
   "execution_count": 13,
   "metadata": {},
   "outputs": [
    {
     "ename": "IndentationError",
     "evalue": "expected an indented block after function definition on line 1 (<ipython-input-13-1739be6d7090>, line 2)",
     "output_type": "error",
     "traceback": [
      "\u001b[0;36m  Cell \u001b[0;32mIn[13], line 2\u001b[0;36m\u001b[0m\n\u001b[0;31m    conn = sqlite3.connect(database_name)\u001b[0m\n\u001b[0m    ^\u001b[0m\n\u001b[0;31mIndentationError\u001b[0m\u001b[0;31m:\u001b[0m expected an indented block after function definition on line 1\n"
     ]
    }
   ],
   "source": [
    "def add_nome(database_name: str, nome: str):\n",
    "conn = sqlite3.connect(database_name)\n",
    "cursor = conn.cursor()\n",
    "\n",
    "cursor.execute(\"\"\"\n",
    "    INSERT INTO nomes (nome) VALUES (?)\n",
    "\"\"\", (nome,))\n",
    "\n",
    "conn.commit()\n",
    "conn.close()"
   ]
  },
  {
   "cell_type": "code",
   "execution_count": 14,
   "metadata": {},
   "outputs": [],
   "source": [
    "import sqlite3"
   ]
  },
  {
   "cell_type": "code",
   "execution_count": 15,
   "metadata": {},
   "outputs": [
    {
     "ename": "IndentationError",
     "evalue": "expected an indented block after function definition on line 1 (<ipython-input-15-1739be6d7090>, line 2)",
     "output_type": "error",
     "traceback": [
      "\u001b[0;36m  Cell \u001b[0;32mIn[15], line 2\u001b[0;36m\u001b[0m\n\u001b[0;31m    conn = sqlite3.connect(database_name)\u001b[0m\n\u001b[0m    ^\u001b[0m\n\u001b[0;31mIndentationError\u001b[0m\u001b[0;31m:\u001b[0m expected an indented block after function definition on line 1\n"
     ]
    }
   ],
   "source": [
    "def add_nome(database_name: str, nome: str):\n",
    "conn = sqlite3.connect(database_name)\n",
    "cursor = conn.cursor()\n",
    "\n",
    "cursor.execute(\"\"\"\n",
    "    INSERT INTO nomes (nome) VALUES (?)\n",
    "\"\"\", (nome,))\n",
    "\n",
    "conn.commit()\n",
    "conn.close()"
   ]
  },
  {
   "cell_type": "code",
   "execution_count": 16,
   "metadata": {},
   "outputs": [],
   "source": [
    "def add_nome(database_name: str, nome: str):\n",
    "    conn = sqlite3.connect(database_name)\n",
    "    cursor = conn.cursor()\n",
    "    cursor.execute(\"\"\"\n",
    "        INSERT INTO nomes (nome) VALUES (?)\n",
    "    \"\"\", (nome,))\n",
    "    conn.commit()\n",
    "    conn.close()"
   ]
  },
  {
   "cell_type": "code",
   "execution_count": 17,
   "metadata": {},
   "outputs": [],
   "source": [
    "def add_telefone(database_name: str, telefone: str):\n",
    "    conn = sqlite3.connect(database_name)\n",
    "    cursor = conn.cursor()\n",
    "    cursor.execute(\"\"\"\n",
    "        INSERT INTO telefones (telefone) VALUES (?)\n",
    "    \"\"\", (telefone,))\n",
    "    conn.commit()\n",
    "    conn.close()"
   ]
  },
  {
   "cell_type": "code",
   "execution_count": 18,
   "metadata": {},
   "outputs": [],
   "source": [
    "def add_email(database_name: str, email: str):\n",
    "    conn = sqlite3.connect(database_name)\n",
    "    cursor = conn.cursor()\n",
    "    cursor.execute(\"\"\"\n",
    "        INSERT INTO emails (email) VALUES (?)\n",
    "    \"\"\", (email,))\n",
    "    conn.commit()\n",
    "    conn.close()"
   ]
  },
  {
   "cell_type": "code",
   "execution_count": 19,
   "metadata": {},
   "outputs": [
    {
     "ename": "OperationalError",
     "evalue": "no such table: nomes",
     "output_type": "error",
     "traceback": [
      "\u001b[0;31m---------------------------------------------------------------------------\u001b[0m",
      "\u001b[0;31mOperationalError\u001b[0m                          Traceback (most recent call last)",
      "Cell \u001b[0;32mIn[19], line 1\u001b[0m\n\u001b[0;32m----> 1\u001b[0m add_nome(\u001b[39m'\u001b[39;49m\u001b[39magenda.db\u001b[39;49m\u001b[39m'\u001b[39;49m, \u001b[39m'\u001b[39;49m\u001b[39mJoão\u001b[39;49m\u001b[39m'\u001b[39;49m)\n",
      "\u001b[1;32m/workspaces/projeto_final_bd/functions/insert_data.py\u001b[0m in \u001b[0;36mline 4\u001b[0m, in \u001b[0;36madd_nome\u001b[0;34m(database_name, nome)\n\u001b[1;32m      <a href='file:///workspaces/projeto_final_bd/functions/insert_data.py?line=25'>26</a>\u001b[0m conn \u001b[39m=\u001b[39m sqlite3\u001b[39m.\u001b[39mconnect(database_name)\n\u001b[1;32m      <a href='file:///workspaces/projeto_final_bd/functions/insert_data.py?line=26'>27</a>\u001b[0m cursor \u001b[39m=\u001b[39m conn\u001b[39m.\u001b[39mcursor()\n\u001b[0;32m----> <a href='file:///workspaces/projeto_final_bd/functions/insert_data.py?line=27'>28</a>\u001b[0m cursor\u001b[39m.\u001b[39;49mexecute(\u001b[39m\"\"\"\u001b[39;49m\n\u001b[1;32m      <a href='file:///workspaces/projeto_final_bd/functions/insert_data.py?line=28'>29</a>\u001b[0m \u001b[39m    INSERT INTO nomes (nome) VALUES (?)\u001b[39;49m\n\u001b[1;32m      <a href='file:///workspaces/projeto_final_bd/functions/insert_data.py?line=29'>30</a>\u001b[0m \u001b[39m\u001b[39;49m\u001b[39m\"\"\"\u001b[39;49m, (nome,))\n\u001b[1;32m      <a href='file:///workspaces/projeto_final_bd/functions/insert_data.py?line=30'>31</a>\u001b[0m conn\u001b[39m.\u001b[39mcommit()\n\u001b[1;32m      <a href='file:///workspaces/projeto_final_bd/functions/insert_data.py?line=31'>32</a>\u001b[0m conn\u001b[39m.\u001b[39mclose()\n",
      "\u001b[0;31mOperationalError\u001b[0m: no such table: nomes"
     ]
    }
   ],
   "source": [
    "add_nome('agenda.db', 'João')"
   ]
  },
  {
   "cell_type": "code",
   "execution_count": 20,
   "metadata": {},
   "outputs": [
    {
     "ename": "OperationalError",
     "evalue": "no such table: nomes",
     "output_type": "error",
     "traceback": [
      "\u001b[0;31m---------------------------------------------------------------------------\u001b[0m",
      "\u001b[0;31mOperationalError\u001b[0m                          Traceback (most recent call last)",
      "Cell \u001b[0;32mIn[20], line 1\u001b[0m\n\u001b[0;32m----> 1\u001b[0m add_nome(\u001b[39m'\u001b[39;49m\u001b[39magenda.db\u001b[39;49m\u001b[39m'\u001b[39;49m, \u001b[39m'\u001b[39;49m\u001b[39mJoão\u001b[39;49m\u001b[39m'\u001b[39;49m)\n",
      "\u001b[1;32m/workspaces/projeto_final_bd/functions/insert_data.py\u001b[0m in \u001b[0;36mline 4\u001b[0m, in \u001b[0;36madd_nome\u001b[0;34m(database_name, nome)\n\u001b[1;32m      <a href='file:///workspaces/projeto_final_bd/functions/insert_data.py?line=25'>26</a>\u001b[0m conn \u001b[39m=\u001b[39m sqlite3\u001b[39m.\u001b[39mconnect(database_name)\n\u001b[1;32m      <a href='file:///workspaces/projeto_final_bd/functions/insert_data.py?line=26'>27</a>\u001b[0m cursor \u001b[39m=\u001b[39m conn\u001b[39m.\u001b[39mcursor()\n\u001b[0;32m----> <a href='file:///workspaces/projeto_final_bd/functions/insert_data.py?line=27'>28</a>\u001b[0m cursor\u001b[39m.\u001b[39;49mexecute(\u001b[39m\"\"\"\u001b[39;49m\n\u001b[1;32m      <a href='file:///workspaces/projeto_final_bd/functions/insert_data.py?line=28'>29</a>\u001b[0m \u001b[39m    INSERT INTO nomes (nome) VALUES (?)\u001b[39;49m\n\u001b[1;32m      <a href='file:///workspaces/projeto_final_bd/functions/insert_data.py?line=29'>30</a>\u001b[0m \u001b[39m\u001b[39;49m\u001b[39m\"\"\"\u001b[39;49m, (nome,))\n\u001b[1;32m      <a href='file:///workspaces/projeto_final_bd/functions/insert_data.py?line=30'>31</a>\u001b[0m conn\u001b[39m.\u001b[39mcommit()\n\u001b[1;32m      <a href='file:///workspaces/projeto_final_bd/functions/insert_data.py?line=31'>32</a>\u001b[0m conn\u001b[39m.\u001b[39mclose()\n",
      "\u001b[0;31mOperationalError\u001b[0m: no such table: nomes"
     ]
    }
   ],
   "source": [
    "add_nome('agenda.db', 'João')"
   ]
  },
  {
   "cell_type": "code",
   "execution_count": 21,
   "metadata": {},
   "outputs": [],
   "source": [
    "def add_nome(database_name: str, nome: str):\n",
    "    conn = sqlite3.connect(database_name)\n",
    "    cursor = conn.cursor()\n",
    "    cursor.execute(\"\"\"\n",
    "        INSERT INTO nomes (nome) VALUES (?)\n",
    "    \"\"\", (nome,))\n",
    "    conn.commit()\n",
    "    conn.close()"
   ]
  },
  {
   "cell_type": "code",
   "execution_count": 22,
   "metadata": {},
   "outputs": [
    {
     "ename": "OperationalError",
     "evalue": "no such table: nomes",
     "output_type": "error",
     "traceback": [
      "\u001b[0;31m---------------------------------------------------------------------------\u001b[0m",
      "\u001b[0;31mOperationalError\u001b[0m                          Traceback (most recent call last)",
      "Cell \u001b[0;32mIn[22], line 1\u001b[0m\n\u001b[0;32m----> 1\u001b[0m add_nome(\u001b[39m'\u001b[39;49m\u001b[39magenda.db\u001b[39;49m\u001b[39m'\u001b[39;49m, \u001b[39m'\u001b[39;49m\u001b[39mJoão\u001b[39;49m\u001b[39m'\u001b[39;49m)\n",
      "\u001b[1;32m/workspaces/projeto_final_bd/functions/insert_data.py\u001b[0m in \u001b[0;36mline 4\u001b[0m, in \u001b[0;36madd_nome\u001b[0;34m(database_name, nome)\n\u001b[1;32m      <a href='file:///workspaces/projeto_final_bd/functions/insert_data.py?line=25'>26</a>\u001b[0m conn \u001b[39m=\u001b[39m sqlite3\u001b[39m.\u001b[39mconnect(database_name)\n\u001b[1;32m      <a href='file:///workspaces/projeto_final_bd/functions/insert_data.py?line=26'>27</a>\u001b[0m cursor \u001b[39m=\u001b[39m conn\u001b[39m.\u001b[39mcursor()\n\u001b[0;32m----> <a href='file:///workspaces/projeto_final_bd/functions/insert_data.py?line=27'>28</a>\u001b[0m cursor\u001b[39m.\u001b[39;49mexecute(\u001b[39m\"\"\"\u001b[39;49m\n\u001b[1;32m      <a href='file:///workspaces/projeto_final_bd/functions/insert_data.py?line=28'>29</a>\u001b[0m \u001b[39m    INSERT INTO nomes (nome) VALUES (?)\u001b[39;49m\n\u001b[1;32m      <a href='file:///workspaces/projeto_final_bd/functions/insert_data.py?line=29'>30</a>\u001b[0m \u001b[39m\u001b[39;49m\u001b[39m\"\"\"\u001b[39;49m, (nome,))\n\u001b[1;32m      <a href='file:///workspaces/projeto_final_bd/functions/insert_data.py?line=30'>31</a>\u001b[0m conn\u001b[39m.\u001b[39mcommit()\n\u001b[1;32m      <a href='file:///workspaces/projeto_final_bd/functions/insert_data.py?line=31'>32</a>\u001b[0m conn\u001b[39m.\u001b[39mclose()\n",
      "\u001b[0;31mOperationalError\u001b[0m: no such table: nomes"
     ]
    }
   ],
   "source": [
    "add_nome('agenda.db', 'João')"
   ]
  },
  {
   "cell_type": "code",
   "execution_count": 23,
   "metadata": {},
   "outputs": [],
   "source": [
    "def add_nome(database_name: str, nome: str):\n",
    "    conn = sqlite3.connect('adenda.db')\n",
    "    cursor = conn.cursor()\n",
    "    cursor.execute(\"\"\"\n",
    "        INSERT INTO nomes (nome) VALUES (?)\n",
    "    \"\"\", (nome,))\n",
    "    conn.commit()\n",
    "    conn.close()"
   ]
  },
  {
   "cell_type": "code",
   "execution_count": 24,
   "metadata": {},
   "outputs": [
    {
     "ename": "OperationalError",
     "evalue": "no such table: nomes",
     "output_type": "error",
     "traceback": [
      "\u001b[0;31m---------------------------------------------------------------------------\u001b[0m",
      "\u001b[0;31mOperationalError\u001b[0m                          Traceback (most recent call last)",
      "Cell \u001b[0;32mIn[24], line 1\u001b[0m\n\u001b[0;32m----> 1\u001b[0m add_nome(\u001b[39m'\u001b[39;49m\u001b[39magenda.db\u001b[39;49m\u001b[39m'\u001b[39;49m, \u001b[39m'\u001b[39;49m\u001b[39mJoão\u001b[39;49m\u001b[39m'\u001b[39;49m)\n",
      "\u001b[1;32m/workspaces/projeto_final_bd/functions/insert_data.py\u001b[0m in \u001b[0;36mline 4\u001b[0m, in \u001b[0;36madd_nome\u001b[0;34m(database_name, nome)\n\u001b[1;32m      <a href='file:///workspaces/projeto_final_bd/functions/insert_data.py?line=25'>26</a>\u001b[0m conn \u001b[39m=\u001b[39m sqlite3\u001b[39m.\u001b[39mconnect(\u001b[39m'\u001b[39m\u001b[39madenda.db\u001b[39m\u001b[39m'\u001b[39m)\n\u001b[1;32m      <a href='file:///workspaces/projeto_final_bd/functions/insert_data.py?line=26'>27</a>\u001b[0m cursor \u001b[39m=\u001b[39m conn\u001b[39m.\u001b[39mcursor()\n\u001b[0;32m----> <a href='file:///workspaces/projeto_final_bd/functions/insert_data.py?line=27'>28</a>\u001b[0m cursor\u001b[39m.\u001b[39;49mexecute(\u001b[39m\"\"\"\u001b[39;49m\n\u001b[1;32m      <a href='file:///workspaces/projeto_final_bd/functions/insert_data.py?line=28'>29</a>\u001b[0m \u001b[39m    INSERT INTO nomes (nome) VALUES (?)\u001b[39;49m\n\u001b[1;32m      <a href='file:///workspaces/projeto_final_bd/functions/insert_data.py?line=29'>30</a>\u001b[0m \u001b[39m\u001b[39;49m\u001b[39m\"\"\"\u001b[39;49m, (nome,))\n\u001b[1;32m      <a href='file:///workspaces/projeto_final_bd/functions/insert_data.py?line=30'>31</a>\u001b[0m conn\u001b[39m.\u001b[39mcommit()\n\u001b[1;32m      <a href='file:///workspaces/projeto_final_bd/functions/insert_data.py?line=31'>32</a>\u001b[0m conn\u001b[39m.\u001b[39mclose()\n",
      "\u001b[0;31mOperationalError\u001b[0m: no such table: nomes"
     ]
    }
   ],
   "source": [
    "add_nome('agenda.db', 'João')"
   ]
  },
  {
   "cell_type": "code",
   "execution_count": 25,
   "metadata": {},
   "outputs": [],
   "source": [
    "def create_nomes_table(database_name: str):\n",
    "    conn = sqlite3.connect(database_name)\n",
    "    cursor = conn.cursor()\n",
    "    cursor.execute(\"\"\"\n",
    "        CREATE TABLE IF NOT EXISTS nomes (\n",
    "            id INTEGER PRIMARY KEY,\n",
    "            nome TEXT NOT NULL\n",
    "        )\n",
    "    \"\"\")\n",
    "    conn.close()"
   ]
  },
  {
   "cell_type": "code",
   "execution_count": 26,
   "metadata": {},
   "outputs": [
    {
     "ename": "OperationalError",
     "evalue": "no such table: nomes",
     "output_type": "error",
     "traceback": [
      "\u001b[0;31m---------------------------------------------------------------------------\u001b[0m",
      "\u001b[0;31mOperationalError\u001b[0m                          Traceback (most recent call last)",
      "Cell \u001b[0;32mIn[26], line 1\u001b[0m\n\u001b[0;32m----> 1\u001b[0m add_nome(\u001b[39m'\u001b[39;49m\u001b[39magenda.db\u001b[39;49m\u001b[39m'\u001b[39;49m, \u001b[39m'\u001b[39;49m\u001b[39mJoão\u001b[39;49m\u001b[39m'\u001b[39;49m)\n",
      "Cell \u001b[0;32mIn[23], line 4\u001b[0m, in \u001b[0;36madd_nome\u001b[0;34m(database_name, nome)\u001b[0m\n\u001b[1;32m      2\u001b[0m conn \u001b[39m=\u001b[39m sqlite3\u001b[39m.\u001b[39mconnect(\u001b[39m'\u001b[39m\u001b[39madenda.db\u001b[39m\u001b[39m'\u001b[39m)\n\u001b[1;32m      3\u001b[0m cursor \u001b[39m=\u001b[39m conn\u001b[39m.\u001b[39mcursor()\n\u001b[0;32m----> 4\u001b[0m cursor\u001b[39m.\u001b[39;49mexecute(\u001b[39m\"\"\"\u001b[39;49m\n\u001b[1;32m      5\u001b[0m \u001b[39m    INSERT INTO nomes (nome) VALUES (?)\u001b[39;49m\n\u001b[1;32m      6\u001b[0m \u001b[39m\u001b[39;49m\u001b[39m\"\"\"\u001b[39;49m, (nome,))\n\u001b[1;32m      7\u001b[0m conn\u001b[39m.\u001b[39mcommit()\n\u001b[1;32m      8\u001b[0m conn\u001b[39m.\u001b[39mclose()\n",
      "\u001b[0;31mOperationalError\u001b[0m: no such table: nomes"
     ]
    }
   ],
   "source": [
    "add_nome('agenda.db', 'João')"
   ]
  },
  {
   "cell_type": "code",
   "execution_count": 27,
   "metadata": {},
   "outputs": [],
   "source": [
    "create_nomes_table('agenda.db')"
   ]
  },
  {
   "cell_type": "code",
   "execution_count": 28,
   "metadata": {},
   "outputs": [
    {
     "ename": "OperationalError",
     "evalue": "no such table: nomes",
     "output_type": "error",
     "traceback": [
      "\u001b[0;31m---------------------------------------------------------------------------\u001b[0m",
      "\u001b[0;31mOperationalError\u001b[0m                          Traceback (most recent call last)",
      "Cell \u001b[0;32mIn[28], line 1\u001b[0m\n\u001b[0;32m----> 1\u001b[0m add_nome(\u001b[39m'\u001b[39;49m\u001b[39magenda.db\u001b[39;49m\u001b[39m'\u001b[39;49m, \u001b[39m'\u001b[39;49m\u001b[39mJoão\u001b[39;49m\u001b[39m'\u001b[39;49m)\n",
      "Cell \u001b[0;32mIn[23], line 4\u001b[0m, in \u001b[0;36madd_nome\u001b[0;34m(database_name, nome)\u001b[0m\n\u001b[1;32m      2\u001b[0m conn \u001b[39m=\u001b[39m sqlite3\u001b[39m.\u001b[39mconnect(\u001b[39m'\u001b[39m\u001b[39madenda.db\u001b[39m\u001b[39m'\u001b[39m)\n\u001b[1;32m      3\u001b[0m cursor \u001b[39m=\u001b[39m conn\u001b[39m.\u001b[39mcursor()\n\u001b[0;32m----> 4\u001b[0m cursor\u001b[39m.\u001b[39;49mexecute(\u001b[39m\"\"\"\u001b[39;49m\n\u001b[1;32m      5\u001b[0m \u001b[39m    INSERT INTO nomes (nome) VALUES (?)\u001b[39;49m\n\u001b[1;32m      6\u001b[0m \u001b[39m\u001b[39;49m\u001b[39m\"\"\"\u001b[39;49m, (nome,))\n\u001b[1;32m      7\u001b[0m conn\u001b[39m.\u001b[39mcommit()\n\u001b[1;32m      8\u001b[0m conn\u001b[39m.\u001b[39mclose()\n",
      "\u001b[0;31mOperationalError\u001b[0m: no such table: nomes"
     ]
    }
   ],
   "source": [
    "add_nome('agenda.db', 'João')"
   ]
  },
  {
   "cell_type": "code",
   "execution_count": 29,
   "metadata": {},
   "outputs": [],
   "source": [
    "def add_nome(database_name: str, nome: str):\n",
    "    conn = sqlite3.connect(database_name)\n",
    "    cursor = conn.cursor()\n",
    "    cursor.execute(\"\"\"\n",
    "        INSERT INTO nomes (nome) VALUES (?)\n",
    "    \"\"\", (nome,))\n",
    "    conn.commit()\n",
    "    conn.close()"
   ]
  },
  {
   "cell_type": "code",
   "execution_count": 30,
   "metadata": {},
   "outputs": [],
   "source": [
    "def add_telefone(database_name: str, telefone: str):\n",
    "    conn = sqlite3.connect(database_name)\n",
    "    cursor = conn.cursor()\n",
    "    cursor.execute(\"\"\"\n",
    "        INSERT INTO telefones (telefone) VALUES (?)\n",
    "    \"\"\", (telefone,))\n",
    "    conn.commit()\n",
    "    conn.close()"
   ]
  },
  {
   "cell_type": "code",
   "execution_count": 31,
   "metadata": {},
   "outputs": [],
   "source": [
    "def create_telefones_table(database_name: str):\n",
    "    conn = sqlite3.connect(database_name)\n",
    "    cursor = conn.cursor()\n",
    "    cursor.execute(\"\"\"\n",
    "        CREATE TABLE IF NOT EXISTS telefones (\n",
    "            id INTEGER PRIMARY KEY,\n",
    "            telefone TEXT NOT NULL\n",
    "        )\n",
    "    \"\"\")\n",
    "    conn.close()"
   ]
  },
  {
   "cell_type": "code",
   "execution_count": 32,
   "metadata": {},
   "outputs": [],
   "source": [
    "def add_telefone(database_name: str, telefone: str):\n",
    "    conn = sqlite3.connect(database_name)\n",
    "    cursor = conn.cursor()\n",
    "    cursor.execute(\"\"\"\n",
    "        INSERT INTO telefones (telefone) VALUES (?)\n",
    "    \"\"\", (telefone,))\n",
    "    conn.commit()\n",
    "    conn.close()"
   ]
  },
  {
   "cell_type": "code",
   "execution_count": 33,
   "metadata": {},
   "outputs": [],
   "source": [
    "create_telefones_table('agenda.db')"
   ]
  },
  {
   "cell_type": "code",
   "execution_count": 34,
   "metadata": {},
   "outputs": [],
   "source": [
    "create_emails_table('agenda.db')"
   ]
  },
  {
   "cell_type": "code",
   "execution_count": 35,
   "metadata": {},
   "outputs": [],
   "source": [
    "add_nome('agenda.db', 'João')"
   ]
  },
  {
   "cell_type": "code",
   "execution_count": 36,
   "metadata": {},
   "outputs": [],
   "source": [
    "add_telefone('agenda.db', '967845670')"
   ]
  },
  {
   "cell_type": "code",
   "execution_count": 37,
   "metadata": {},
   "outputs": [],
   "source": [
    "add_email('agenda.db', 'joao@example.com')"
   ]
  },
  {
   "cell_type": "code",
   "execution_count": 38,
   "metadata": {},
   "outputs": [],
   "source": [
    "add_nome('agenda.db', 'Marcela')"
   ]
  },
  {
   "cell_type": "code",
   "execution_count": 39,
   "metadata": {},
   "outputs": [],
   "source": [
    "add_email('agenda.db', 'marcela@example.com')"
   ]
  },
  {
   "cell_type": "code",
   "execution_count": 40,
   "metadata": {},
   "outputs": [],
   "source": [
    "add_telefone('agenda.db', '935478970')"
   ]
  },
  {
   "cell_type": "code",
   "execution_count": 41,
   "metadata": {},
   "outputs": [],
   "source": [
    "add_nome('agenda.db', 'Juliana')\n"
   ]
  },
  {
   "cell_type": "code",
   "execution_count": 42,
   "metadata": {},
   "outputs": [],
   "source": [
    "add_email('agenda.db', 'juliana@example.com')"
   ]
  },
  {
   "cell_type": "code",
   "execution_count": 43,
   "metadata": {},
   "outputs": [],
   "source": [
    "add_telefone('agenda.db', '968479830')"
   ]
  },
  {
   "cell_type": "code",
   "execution_count": 44,
   "metadata": {},
   "outputs": [],
   "source": [
    "add_nome('agenda.db', 'Roseli')"
   ]
  },
  {
   "cell_type": "code",
   "execution_count": 45,
   "metadata": {},
   "outputs": [],
   "source": [
    "add_email('agenda.db', 'roseli@example.com')"
   ]
  },
  {
   "cell_type": "code",
   "execution_count": 46,
   "metadata": {},
   "outputs": [],
   "source": [
    "add_telefone('agenda.db', '987976587')"
   ]
  },
  {
   "cell_type": "code",
   "execution_count": 47,
   "metadata": {},
   "outputs": [],
   "source": [
    "add_nome('agenda.db', 'Catarina')"
   ]
  },
  {
   "cell_type": "code",
   "execution_count": 48,
   "metadata": {},
   "outputs": [],
   "source": [
    "add_email('agenda.db', 'cata@example.com')"
   ]
  },
  {
   "cell_type": "code",
   "execution_count": 49,
   "metadata": {},
   "outputs": [],
   "source": [
    "add_telefone('agenda.db', '999876545')"
   ]
  },
  {
   "cell_type": "code",
   "execution_count": 50,
   "metadata": {},
   "outputs": [],
   "source": [
    "add_nome('agenda.db', 'Pedro')"
   ]
  },
  {
   "cell_type": "code",
   "execution_count": 51,
   "metadata": {},
   "outputs": [],
   "source": [
    "add_email('agenda.db', 'pedro@example.com')"
   ]
  },
  {
   "cell_type": "code",
   "execution_count": 52,
   "metadata": {},
   "outputs": [],
   "source": [
    "add_telefone('agenda.db', '988763420')"
   ]
  },
  {
   "cell_type": "code",
   "execution_count": 53,
   "metadata": {},
   "outputs": [],
   "source": [
    "import sqlite3"
   ]
  },
  {
   "cell_type": "code",
   "execution_count": 54,
   "metadata": {},
   "outputs": [],
   "source": [
    "import sqlite3"
   ]
  },
  {
   "cell_type": "code",
   "execution_count": 55,
   "metadata": {},
   "outputs": [],
   "source": [
    "import pandas as pd"
   ]
  },
  {
   "cell_type": "code",
   "execution_count": 56,
   "metadata": {},
   "outputs": [],
   "source": [
    "def join_tabelas_com_id(database_name: str):\n",
    "    conn = sqlite3.connect(database_name)\n",
    "    # Query SQL para realizar o JOIN usando a coluna id\n",
    "    query = \"\"\"\n",
    "        SELECT nomes.id AS id_nome, nomes.nome, telefones.id AS id_telefone, telefones.telefone, emails.id AS id_email, emails.email\n",
    "        FROM nomes\n",
    "        LEFT JOIN telefones ON nomes.id = telefones.id\n",
    "        LEFT JOIN emails ON nomes.id = emails.id\n",
    "    \"\"\"\n",
    "    # Executa a query e retorna um DataFrame pandas\n",
    "    df = pd.read_sql_query(query, conn)\n",
    "    conn.close()\n",
    "    return df"
   ]
  },
  {
   "cell_type": "code",
   "execution_count": 57,
   "metadata": {},
   "outputs": [
    {
     "name": "stdout",
     "output_type": "stream",
     "text": [
      "   id_nome      nome  id_telefone   telefone  id_email                email\n",
      "0        1      João            1  967845670         1     joao@example.com\n",
      "1        2   Marcela            2  935478970         2  marcela@example.com\n",
      "2        3   Juliana            3  968479830         3  juliana@example.com\n",
      "3        4    Roseli            4  987976587         4   roseli@example.com\n",
      "4        5  Catarina            5  999876545         5     cata@example.com\n",
      "5        6     Pedro            6  988763420         6    pedro@example.com\n"
     ]
    }
   ],
   "source": [
    "def join_tabelas_com_id(database_name: str):\n",
    "    conn = sqlite3.connect(database_name)\n",
    "    # Query SQL para realizar o JOIN usando a coluna id\n",
    "    query = \"\"\"\n",
    "        SELECT nomes.id AS id_nome, nomes.nome, telefones.id AS id_telefone, telefones.telefone, emails.id AS id_email, emails.email\n",
    "        FROM nomes\n",
    "        LEFT JOIN telefones ON nomes.id = telefones.id\n",
    "        LEFT JOIN emails ON nomes.id = emails.id\n",
    "    \"\"\"\n",
    "    # Executa a query e retorna um DataFrame pandas\n",
    "    df = pd.read_sql_query(query, conn)\n",
    "    conn.close()\n",
    "    return df\n",
    "# Realiza o JOIN e obtém o resultado em um DataFrame\n",
    "\n",
    "result = join_tabelas_com_id('agenda.db')\n",
    "# Exibe o resultado\n",
    "\n",
    "print(result)"
   ]
  },
  {
   "cell_type": "code",
   "execution_count": 58,
   "metadata": {},
   "outputs": [],
   "source": [
    "def create_db(database_name: str):\n",
    "    sqlite3.connect('agenda2.db')"
   ]
  },
  {
   "cell_type": "code",
   "execution_count": 59,
   "metadata": {},
   "outputs": [
    {
     "ename": "DatabaseError",
     "evalue": "Execution failed on sql '\n        SELECT nomes.id AS id_nome, nomes.nome, telefones.id AS id_telefone, telefones.telefone\n        FROM nomes\n        LEFT JOIN telefones ON nomes.id = telefones.id\n    ': no such table: nomes",
     "output_type": "error",
     "traceback": [
      "\u001b[0;31m---------------------------------------------------------------------------\u001b[0m",
      "\u001b[0;31mOperationalError\u001b[0m                          Traceback (most recent call last)",
      "File \u001b[0;32m~/.local/lib/python3.10/site-packages/pandas/io/sql.py:2262\u001b[0m, in \u001b[0;36mSQLiteDatabase.execute\u001b[0;34m(self, sql, params)\u001b[0m\n\u001b[1;32m   <a href='file:///home/codespace/.local/lib/python3.10/site-packages/pandas/io/sql.py?line=2260'>2261</a>\u001b[0m \u001b[39mtry\u001b[39;00m:\n\u001b[0;32m-> <a href='file:///home/codespace/.local/lib/python3.10/site-packages/pandas/io/sql.py?line=2261'>2262</a>\u001b[0m     cur\u001b[39m.\u001b[39;49mexecute(sql, \u001b[39m*\u001b[39;49margs)\n\u001b[1;32m   <a href='file:///home/codespace/.local/lib/python3.10/site-packages/pandas/io/sql.py?line=2262'>2263</a>\u001b[0m     \u001b[39mreturn\u001b[39;00m cur\n",
      "\u001b[0;31mOperationalError\u001b[0m: no such table: nomes",
      "\nThe above exception was the direct cause of the following exception:\n",
      "\u001b[0;31mDatabaseError\u001b[0m                             Traceback (most recent call last)",
      "\u001b[1;32m/workspaces/projeto_final_bd/join_id.py\u001b[0m in \u001b[0;36mline 15\n\u001b[1;32m     <a href='file:///workspaces/projeto_final_bd/join_id.py?line=14'>15</a>\u001b[0m     \u001b[39mreturn\u001b[39;00m df\n\u001b[1;32m     <a href='file:///workspaces/projeto_final_bd/join_id.py?line=15'>16</a>\u001b[0m \u001b[39m# Realiza o JOIN entre nomes e telefones e obtém o resultado em um DataFrame\u001b[39;00m\n\u001b[0;32m---> <a href='file:///workspaces/projeto_final_bd/join_id.py?line=17'>18</a>\u001b[0m result \u001b[39m=\u001b[39m join_nomes_telefones(\u001b[39m'\u001b[39;49m\u001b[39magenda2.db\u001b[39;49m\u001b[39m'\u001b[39;49m)\n\u001b[1;32m     <a href='file:///workspaces/projeto_final_bd/join_id.py?line=18'>19</a>\u001b[0m \u001b[39m# Exibe o resultado\u001b[39;00m\n\u001b[1;32m     <a href='file:///workspaces/projeto_final_bd/join_id.py?line=20'>21</a>\u001b[0m \u001b[39mprint\u001b[39m(result)\n",
      "\u001b[1;32m/workspaces/projeto_final_bd/join_id.py\u001b[0m in \u001b[0;36mline 10\u001b[0m, in \u001b[0;36mjoin_nomes_telefones\u001b[0;34m(database_name)\n\u001b[1;32m      <a href='file:///workspaces/projeto_final_bd/join_id.py?line=6'>7</a>\u001b[0m query \u001b[39m=\u001b[39m \u001b[39m\"\"\"\u001b[39m\n\u001b[1;32m      <a href='file:///workspaces/projeto_final_bd/join_id.py?line=7'>8</a>\u001b[0m \u001b[39m    SELECT nomes.id AS id_nome, nomes.nome, telefones.id AS id_telefone, telefones.telefone\u001b[39m\n\u001b[1;32m      <a href='file:///workspaces/projeto_final_bd/join_id.py?line=8'>9</a>\u001b[0m \u001b[39m    FROM nomes\u001b[39m\n\u001b[1;32m      <a href='file:///workspaces/projeto_final_bd/join_id.py?line=9'>10</a>\u001b[0m \u001b[39m    LEFT JOIN telefones ON nomes.id = telefones.id\u001b[39m\n\u001b[1;32m      <a href='file:///workspaces/projeto_final_bd/join_id.py?line=10'>11</a>\u001b[0m \u001b[39m\u001b[39m\u001b[39m\"\"\"\u001b[39m\n\u001b[1;32m      <a href='file:///workspaces/projeto_final_bd/join_id.py?line=11'>12</a>\u001b[0m \u001b[39m# Executa a query e retorna um DataFrame pandas\u001b[39;00m\n\u001b[0;32m---> <a href='file:///workspaces/projeto_final_bd/join_id.py?line=12'>13</a>\u001b[0m df \u001b[39m=\u001b[39m pd\u001b[39m.\u001b[39;49mread_sql_query(query, conn)\n\u001b[1;32m     <a href='file:///workspaces/projeto_final_bd/join_id.py?line=13'>14</a>\u001b[0m conn\u001b[39m.\u001b[39mclose()\n\u001b[1;32m     <a href='file:///workspaces/projeto_final_bd/join_id.py?line=14'>15</a>\u001b[0m \u001b[39mreturn\u001b[39;00m df\n",
      "File \u001b[0;32m~/.local/lib/python3.10/site-packages/pandas/io/sql.py:486\u001b[0m, in \u001b[0;36mread_sql_query\u001b[0;34m(sql, con, index_col, coerce_float, params, parse_dates, chunksize, dtype, dtype_backend)\u001b[0m\n\u001b[1;32m    <a href='file:///home/codespace/.local/lib/python3.10/site-packages/pandas/io/sql.py?line=482'>483</a>\u001b[0m \u001b[39massert\u001b[39;00m dtype_backend \u001b[39mis\u001b[39;00m \u001b[39mnot\u001b[39;00m lib\u001b[39m.\u001b[39mno_default\n\u001b[1;32m    <a href='file:///home/codespace/.local/lib/python3.10/site-packages/pandas/io/sql.py?line=484'>485</a>\u001b[0m \u001b[39mwith\u001b[39;00m pandasSQL_builder(con) \u001b[39mas\u001b[39;00m pandas_sql:\n\u001b[0;32m--> <a href='file:///home/codespace/.local/lib/python3.10/site-packages/pandas/io/sql.py?line=485'>486</a>\u001b[0m     \u001b[39mreturn\u001b[39;00m pandas_sql\u001b[39m.\u001b[39;49mread_query(\n\u001b[1;32m    <a href='file:///home/codespace/.local/lib/python3.10/site-packages/pandas/io/sql.py?line=486'>487</a>\u001b[0m         sql,\n\u001b[1;32m    <a href='file:///home/codespace/.local/lib/python3.10/site-packages/pandas/io/sql.py?line=487'>488</a>\u001b[0m         index_col\u001b[39m=\u001b[39;49mindex_col,\n\u001b[1;32m    <a href='file:///home/codespace/.local/lib/python3.10/site-packages/pandas/io/sql.py?line=488'>489</a>\u001b[0m         params\u001b[39m=\u001b[39;49mparams,\n\u001b[1;32m    <a href='file:///home/codespace/.local/lib/python3.10/site-packages/pandas/io/sql.py?line=489'>490</a>\u001b[0m         coerce_float\u001b[39m=\u001b[39;49mcoerce_float,\n\u001b[1;32m    <a href='file:///home/codespace/.local/lib/python3.10/site-packages/pandas/io/sql.py?line=490'>491</a>\u001b[0m         parse_dates\u001b[39m=\u001b[39;49mparse_dates,\n\u001b[1;32m    <a href='file:///home/codespace/.local/lib/python3.10/site-packages/pandas/io/sql.py?line=491'>492</a>\u001b[0m         chunksize\u001b[39m=\u001b[39;49mchunksize,\n\u001b[1;32m    <a href='file:///home/codespace/.local/lib/python3.10/site-packages/pandas/io/sql.py?line=492'>493</a>\u001b[0m         dtype\u001b[39m=\u001b[39;49mdtype,\n\u001b[1;32m    <a href='file:///home/codespace/.local/lib/python3.10/site-packages/pandas/io/sql.py?line=493'>494</a>\u001b[0m         dtype_backend\u001b[39m=\u001b[39;49mdtype_backend,\n\u001b[1;32m    <a href='file:///home/codespace/.local/lib/python3.10/site-packages/pandas/io/sql.py?line=494'>495</a>\u001b[0m     )\n",
      "File \u001b[0;32m~/.local/lib/python3.10/site-packages/pandas/io/sql.py:2326\u001b[0m, in \u001b[0;36mSQLiteDatabase.read_query\u001b[0;34m(self, sql, index_col, coerce_float, parse_dates, params, chunksize, dtype, dtype_backend)\u001b[0m\n\u001b[1;32m   <a href='file:///home/codespace/.local/lib/python3.10/site-packages/pandas/io/sql.py?line=2314'>2315</a>\u001b[0m \u001b[39mdef\u001b[39;00m \u001b[39mread_query\u001b[39m(\n\u001b[1;32m   <a href='file:///home/codespace/.local/lib/python3.10/site-packages/pandas/io/sql.py?line=2315'>2316</a>\u001b[0m     \u001b[39mself\u001b[39m,\n\u001b[1;32m   <a href='file:///home/codespace/.local/lib/python3.10/site-packages/pandas/io/sql.py?line=2316'>2317</a>\u001b[0m     sql,\n\u001b[0;32m   (...)\u001b[0m\n\u001b[1;32m   <a href='file:///home/codespace/.local/lib/python3.10/site-packages/pandas/io/sql.py?line=2323'>2324</a>\u001b[0m     dtype_backend: DtypeBackend \u001b[39m|\u001b[39m Literal[\u001b[39m\"\u001b[39m\u001b[39mnumpy\u001b[39m\u001b[39m\"\u001b[39m] \u001b[39m=\u001b[39m \u001b[39m\"\u001b[39m\u001b[39mnumpy\u001b[39m\u001b[39m\"\u001b[39m,\n\u001b[1;32m   <a href='file:///home/codespace/.local/lib/python3.10/site-packages/pandas/io/sql.py?line=2324'>2325</a>\u001b[0m ) \u001b[39m-\u001b[39m\u001b[39m>\u001b[39m DataFrame \u001b[39m|\u001b[39m Iterator[DataFrame]:\n\u001b[0;32m-> <a href='file:///home/codespace/.local/lib/python3.10/site-packages/pandas/io/sql.py?line=2325'>2326</a>\u001b[0m     cursor \u001b[39m=\u001b[39m \u001b[39mself\u001b[39;49m\u001b[39m.\u001b[39;49mexecute(sql, params)\n\u001b[1;32m   <a href='file:///home/codespace/.local/lib/python3.10/site-packages/pandas/io/sql.py?line=2326'>2327</a>\u001b[0m     columns \u001b[39m=\u001b[39m [col_desc[\u001b[39m0\u001b[39m] \u001b[39mfor\u001b[39;00m col_desc \u001b[39min\u001b[39;00m cursor\u001b[39m.\u001b[39mdescription]\n\u001b[1;32m   <a href='file:///home/codespace/.local/lib/python3.10/site-packages/pandas/io/sql.py?line=2328'>2329</a>\u001b[0m     \u001b[39mif\u001b[39;00m chunksize \u001b[39mis\u001b[39;00m \u001b[39mnot\u001b[39;00m \u001b[39mNone\u001b[39;00m:\n",
      "File \u001b[0;32m~/.local/lib/python3.10/site-packages/pandas/io/sql.py:2274\u001b[0m, in \u001b[0;36mSQLiteDatabase.execute\u001b[0;34m(self, sql, params)\u001b[0m\n\u001b[1;32m   <a href='file:///home/codespace/.local/lib/python3.10/site-packages/pandas/io/sql.py?line=2270'>2271</a>\u001b[0m     \u001b[39mraise\u001b[39;00m ex \u001b[39mfrom\u001b[39;00m \u001b[39minner_exc\u001b[39;00m\n\u001b[1;32m   <a href='file:///home/codespace/.local/lib/python3.10/site-packages/pandas/io/sql.py?line=2272'>2273</a>\u001b[0m ex \u001b[39m=\u001b[39m DatabaseError(\u001b[39mf\u001b[39m\u001b[39m\"\u001b[39m\u001b[39mExecution failed on sql \u001b[39m\u001b[39m'\u001b[39m\u001b[39m{\u001b[39;00msql\u001b[39m}\u001b[39;00m\u001b[39m'\u001b[39m\u001b[39m: \u001b[39m\u001b[39m{\u001b[39;00mexc\u001b[39m}\u001b[39;00m\u001b[39m\"\u001b[39m)\n\u001b[0;32m-> <a href='file:///home/codespace/.local/lib/python3.10/site-packages/pandas/io/sql.py?line=2273'>2274</a>\u001b[0m \u001b[39mraise\u001b[39;00m ex \u001b[39mfrom\u001b[39;00m \u001b[39mexc\u001b[39;00m\n",
      "\u001b[0;31mDatabaseError\u001b[0m: Execution failed on sql '\n        SELECT nomes.id AS id_nome, nomes.nome, telefones.id AS id_telefone, telefones.telefone\n        FROM nomes\n        LEFT JOIN telefones ON nomes.id = telefones.id\n    ': no such table: nomes"
     ]
    }
   ],
   "source": [
    "def join_nomes_telefones(database_name: str):\n",
    "    conn = sqlite3.connect(database_name)\n",
    "    # Query SQL para realizar o JOIN entre nomes e telefones usando a coluna id\n",
    "    query = \"\"\"\n",
    "        SELECT nomes.id AS id_nome, nomes.nome, telefones.id AS id_telefone, telefones.telefone\n",
    "        FROM nomes\n",
    "        LEFT JOIN telefones ON nomes.id = telefones.id\n",
    "    \"\"\"\n",
    "    # Executa a query e retorna um DataFrame pandas\n",
    "    df = pd.read_sql_query(query, conn)\n",
    "    conn.close()\n",
    "    return df\n",
    "# Realiza o JOIN entre nomes e telefones e obtém o resultado em um DataFrame\n",
    "\n",
    "result = join_nomes_telefones('agenda2.db')\n",
    "# Exibe o resultado\n",
    "\n",
    "print(result)"
   ]
  },
  {
   "cell_type": "code",
   "execution_count": 60,
   "metadata": {},
   "outputs": [],
   "source": [
    "import sqlite3"
   ]
  },
  {
   "cell_type": "code",
   "execution_count": 61,
   "metadata": {},
   "outputs": [],
   "source": [
    "import pandas as pd"
   ]
  },
  {
   "cell_type": "code",
   "execution_count": 62,
   "metadata": {},
   "outputs": [
    {
     "ename": "DatabaseError",
     "evalue": "Execution failed on sql '\n        SELECT nomes.id AS id_nome, nomes.nome, telefones.id AS id_telefone, telefones.telefone\n        FROM nomes\n        LEFT JOIN telefones ON nomes.id = telefones.id\n    ': no such table: nomes",
     "output_type": "error",
     "traceback": [
      "\u001b[0;31m---------------------------------------------------------------------------\u001b[0m",
      "\u001b[0;31mOperationalError\u001b[0m                          Traceback (most recent call last)",
      "File \u001b[0;32m~/.local/lib/python3.10/site-packages/pandas/io/sql.py:2262\u001b[0m, in \u001b[0;36mSQLiteDatabase.execute\u001b[0;34m(self, sql, params)\u001b[0m\n\u001b[1;32m   <a href='file:///home/codespace/.local/lib/python3.10/site-packages/pandas/io/sql.py?line=2260'>2261</a>\u001b[0m \u001b[39mtry\u001b[39;00m:\n\u001b[0;32m-> <a href='file:///home/codespace/.local/lib/python3.10/site-packages/pandas/io/sql.py?line=2261'>2262</a>\u001b[0m     cur\u001b[39m.\u001b[39;49mexecute(sql, \u001b[39m*\u001b[39;49margs)\n\u001b[1;32m   <a href='file:///home/codespace/.local/lib/python3.10/site-packages/pandas/io/sql.py?line=2262'>2263</a>\u001b[0m     \u001b[39mreturn\u001b[39;00m cur\n",
      "\u001b[0;31mOperationalError\u001b[0m: no such table: nomes",
      "\nThe above exception was the direct cause of the following exception:\n",
      "\u001b[0;31mDatabaseError\u001b[0m                             Traceback (most recent call last)",
      "\u001b[1;32m/workspaces/projeto_final_bd/join_id.py\u001b[0m in \u001b[0;36mline 15\n\u001b[1;32m     <a href='file:///workspaces/projeto_final_bd/join_id.py?line=13'>14</a>\u001b[0m     \u001b[39mreturn\u001b[39;00m df\n\u001b[1;32m     <a href='file:///workspaces/projeto_final_bd/join_id.py?line=14'>15</a>\u001b[0m \u001b[39m# Realiza o JOIN entre nomes e telefones e obtém o resultado em um DataFrame\u001b[39;00m\n\u001b[0;32m---> <a href='file:///workspaces/projeto_final_bd/join_id.py?line=16'>17</a>\u001b[0m result \u001b[39m=\u001b[39m join_nomes_telefones(\u001b[39m'\u001b[39;49m\u001b[39magenda2.db\u001b[39;49m\u001b[39m'\u001b[39;49m)\n\u001b[1;32m     <a href='file:///workspaces/projeto_final_bd/join_id.py?line=17'>18</a>\u001b[0m \u001b[39m# Exibe o resultado\u001b[39;00m\n\u001b[1;32m     <a href='file:///workspaces/projeto_final_bd/join_id.py?line=19'>20</a>\u001b[0m \u001b[39mprint\u001b[39m(result)\n",
      "\u001b[1;32m/workspaces/projeto_final_bd/join_id.py\u001b[0m in \u001b[0;36mline 10\u001b[0m, in \u001b[0;36mjoin_nomes_telefones\u001b[0;34m(database_name)\n\u001b[1;32m      <a href='file:///workspaces/projeto_final_bd/join_id.py?line=5'>6</a>\u001b[0m query \u001b[39m=\u001b[39m \u001b[39m\"\"\"\u001b[39m\n\u001b[1;32m      <a href='file:///workspaces/projeto_final_bd/join_id.py?line=6'>7</a>\u001b[0m \u001b[39m    SELECT nomes.id AS id_nome, nomes.nome, telefones.id AS id_telefone, telefones.telefone\u001b[39m\n\u001b[1;32m      <a href='file:///workspaces/projeto_final_bd/join_id.py?line=7'>8</a>\u001b[0m \u001b[39m    FROM nomes\u001b[39m\n\u001b[1;32m      <a href='file:///workspaces/projeto_final_bd/join_id.py?line=8'>9</a>\u001b[0m \u001b[39m    LEFT JOIN telefones ON nomes.id = telefones.id\u001b[39m\n\u001b[1;32m      <a href='file:///workspaces/projeto_final_bd/join_id.py?line=9'>10</a>\u001b[0m \u001b[39m\u001b[39m\u001b[39m\"\"\"\u001b[39m\n\u001b[1;32m      <a href='file:///workspaces/projeto_final_bd/join_id.py?line=10'>11</a>\u001b[0m \u001b[39m# Executa a query e retorna um DataFrame pandas\u001b[39;00m\n\u001b[0;32m---> <a href='file:///workspaces/projeto_final_bd/join_id.py?line=11'>12</a>\u001b[0m df \u001b[39m=\u001b[39m pd\u001b[39m.\u001b[39;49mread_sql_query(query, conn)\n\u001b[1;32m     <a href='file:///workspaces/projeto_final_bd/join_id.py?line=12'>13</a>\u001b[0m conn\u001b[39m.\u001b[39mclose()\n\u001b[1;32m     <a href='file:///workspaces/projeto_final_bd/join_id.py?line=13'>14</a>\u001b[0m \u001b[39mreturn\u001b[39;00m df\n",
      "File \u001b[0;32m~/.local/lib/python3.10/site-packages/pandas/io/sql.py:486\u001b[0m, in \u001b[0;36mread_sql_query\u001b[0;34m(sql, con, index_col, coerce_float, params, parse_dates, chunksize, dtype, dtype_backend)\u001b[0m\n\u001b[1;32m    <a href='file:///home/codespace/.local/lib/python3.10/site-packages/pandas/io/sql.py?line=482'>483</a>\u001b[0m \u001b[39massert\u001b[39;00m dtype_backend \u001b[39mis\u001b[39;00m \u001b[39mnot\u001b[39;00m lib\u001b[39m.\u001b[39mno_default\n\u001b[1;32m    <a href='file:///home/codespace/.local/lib/python3.10/site-packages/pandas/io/sql.py?line=484'>485</a>\u001b[0m \u001b[39mwith\u001b[39;00m pandasSQL_builder(con) \u001b[39mas\u001b[39;00m pandas_sql:\n\u001b[0;32m--> <a href='file:///home/codespace/.local/lib/python3.10/site-packages/pandas/io/sql.py?line=485'>486</a>\u001b[0m     \u001b[39mreturn\u001b[39;00m pandas_sql\u001b[39m.\u001b[39;49mread_query(\n\u001b[1;32m    <a href='file:///home/codespace/.local/lib/python3.10/site-packages/pandas/io/sql.py?line=486'>487</a>\u001b[0m         sql,\n\u001b[1;32m    <a href='file:///home/codespace/.local/lib/python3.10/site-packages/pandas/io/sql.py?line=487'>488</a>\u001b[0m         index_col\u001b[39m=\u001b[39;49mindex_col,\n\u001b[1;32m    <a href='file:///home/codespace/.local/lib/python3.10/site-packages/pandas/io/sql.py?line=488'>489</a>\u001b[0m         params\u001b[39m=\u001b[39;49mparams,\n\u001b[1;32m    <a href='file:///home/codespace/.local/lib/python3.10/site-packages/pandas/io/sql.py?line=489'>490</a>\u001b[0m         coerce_float\u001b[39m=\u001b[39;49mcoerce_float,\n\u001b[1;32m    <a href='file:///home/codespace/.local/lib/python3.10/site-packages/pandas/io/sql.py?line=490'>491</a>\u001b[0m         parse_dates\u001b[39m=\u001b[39;49mparse_dates,\n\u001b[1;32m    <a href='file:///home/codespace/.local/lib/python3.10/site-packages/pandas/io/sql.py?line=491'>492</a>\u001b[0m         chunksize\u001b[39m=\u001b[39;49mchunksize,\n\u001b[1;32m    <a href='file:///home/codespace/.local/lib/python3.10/site-packages/pandas/io/sql.py?line=492'>493</a>\u001b[0m         dtype\u001b[39m=\u001b[39;49mdtype,\n\u001b[1;32m    <a href='file:///home/codespace/.local/lib/python3.10/site-packages/pandas/io/sql.py?line=493'>494</a>\u001b[0m         dtype_backend\u001b[39m=\u001b[39;49mdtype_backend,\n\u001b[1;32m    <a href='file:///home/codespace/.local/lib/python3.10/site-packages/pandas/io/sql.py?line=494'>495</a>\u001b[0m     )\n",
      "File \u001b[0;32m~/.local/lib/python3.10/site-packages/pandas/io/sql.py:2326\u001b[0m, in \u001b[0;36mSQLiteDatabase.read_query\u001b[0;34m(self, sql, index_col, coerce_float, parse_dates, params, chunksize, dtype, dtype_backend)\u001b[0m\n\u001b[1;32m   <a href='file:///home/codespace/.local/lib/python3.10/site-packages/pandas/io/sql.py?line=2314'>2315</a>\u001b[0m \u001b[39mdef\u001b[39;00m \u001b[39mread_query\u001b[39m(\n\u001b[1;32m   <a href='file:///home/codespace/.local/lib/python3.10/site-packages/pandas/io/sql.py?line=2315'>2316</a>\u001b[0m     \u001b[39mself\u001b[39m,\n\u001b[1;32m   <a href='file:///home/codespace/.local/lib/python3.10/site-packages/pandas/io/sql.py?line=2316'>2317</a>\u001b[0m     sql,\n\u001b[0;32m   (...)\u001b[0m\n\u001b[1;32m   <a href='file:///home/codespace/.local/lib/python3.10/site-packages/pandas/io/sql.py?line=2323'>2324</a>\u001b[0m     dtype_backend: DtypeBackend \u001b[39m|\u001b[39m Literal[\u001b[39m\"\u001b[39m\u001b[39mnumpy\u001b[39m\u001b[39m\"\u001b[39m] \u001b[39m=\u001b[39m \u001b[39m\"\u001b[39m\u001b[39mnumpy\u001b[39m\u001b[39m\"\u001b[39m,\n\u001b[1;32m   <a href='file:///home/codespace/.local/lib/python3.10/site-packages/pandas/io/sql.py?line=2324'>2325</a>\u001b[0m ) \u001b[39m-\u001b[39m\u001b[39m>\u001b[39m DataFrame \u001b[39m|\u001b[39m Iterator[DataFrame]:\n\u001b[0;32m-> <a href='file:///home/codespace/.local/lib/python3.10/site-packages/pandas/io/sql.py?line=2325'>2326</a>\u001b[0m     cursor \u001b[39m=\u001b[39m \u001b[39mself\u001b[39;49m\u001b[39m.\u001b[39;49mexecute(sql, params)\n\u001b[1;32m   <a href='file:///home/codespace/.local/lib/python3.10/site-packages/pandas/io/sql.py?line=2326'>2327</a>\u001b[0m     columns \u001b[39m=\u001b[39m [col_desc[\u001b[39m0\u001b[39m] \u001b[39mfor\u001b[39;00m col_desc \u001b[39min\u001b[39;00m cursor\u001b[39m.\u001b[39mdescription]\n\u001b[1;32m   <a href='file:///home/codespace/.local/lib/python3.10/site-packages/pandas/io/sql.py?line=2328'>2329</a>\u001b[0m     \u001b[39mif\u001b[39;00m chunksize \u001b[39mis\u001b[39;00m \u001b[39mnot\u001b[39;00m \u001b[39mNone\u001b[39;00m:\n",
      "File \u001b[0;32m~/.local/lib/python3.10/site-packages/pandas/io/sql.py:2274\u001b[0m, in \u001b[0;36mSQLiteDatabase.execute\u001b[0;34m(self, sql, params)\u001b[0m\n\u001b[1;32m   <a href='file:///home/codespace/.local/lib/python3.10/site-packages/pandas/io/sql.py?line=2270'>2271</a>\u001b[0m     \u001b[39mraise\u001b[39;00m ex \u001b[39mfrom\u001b[39;00m \u001b[39minner_exc\u001b[39;00m\n\u001b[1;32m   <a href='file:///home/codespace/.local/lib/python3.10/site-packages/pandas/io/sql.py?line=2272'>2273</a>\u001b[0m ex \u001b[39m=\u001b[39m DatabaseError(\u001b[39mf\u001b[39m\u001b[39m\"\u001b[39m\u001b[39mExecution failed on sql \u001b[39m\u001b[39m'\u001b[39m\u001b[39m{\u001b[39;00msql\u001b[39m}\u001b[39;00m\u001b[39m'\u001b[39m\u001b[39m: \u001b[39m\u001b[39m{\u001b[39;00mexc\u001b[39m}\u001b[39;00m\u001b[39m\"\u001b[39m)\n\u001b[0;32m-> <a href='file:///home/codespace/.local/lib/python3.10/site-packages/pandas/io/sql.py?line=2273'>2274</a>\u001b[0m \u001b[39mraise\u001b[39;00m ex \u001b[39mfrom\u001b[39;00m \u001b[39mexc\u001b[39;00m\n",
      "\u001b[0;31mDatabaseError\u001b[0m: Execution failed on sql '\n        SELECT nomes.id AS id_nome, nomes.nome, telefones.id AS id_telefone, telefones.telefone\n        FROM nomes\n        LEFT JOIN telefones ON nomes.id = telefones.id\n    ': no such table: nomes"
     ]
    }
   ],
   "source": [
    "def join_nomes_telefones(database_name: str):\n",
    "    conn = sqlite3.connect(database_name)\n",
    "    # Query SQL para realizar o JOIN entre nomes e telefones usando a coluna id\n",
    "    query = \"\"\"\n",
    "        SELECT nomes.id AS id_nome, nomes.nome, telefones.id AS id_telefone, telefones.telefone\n",
    "        FROM nomes\n",
    "        LEFT JOIN telefones ON nomes.id = telefones.id\n",
    "    \"\"\"\n",
    "    # Executa a query e retorna um DataFrame pandas\n",
    "    df = pd.read_sql_query(query, conn)\n",
    "    conn.close()\n",
    "    return df\n",
    "# Realiza o JOIN entre nomes e telefones e obtém o resultado em um DataFrame\n",
    "\n",
    "result = join_nomes_telefones('agenda2.db')\n",
    "# Exibe o resultado\n",
    "\n",
    "print(result)"
   ]
  },
  {
   "cell_type": "code",
   "execution_count": 63,
   "metadata": {},
   "outputs": [
    {
     "name": "stdout",
     "output_type": "stream",
     "text": [
      "   id_nome      nome  id_telefone   telefone\n",
      "0        1      João            1  967845670\n",
      "1        2   Marcela            2  935478970\n",
      "2        3   Juliana            3  968479830\n",
      "3        4    Roseli            4  987976587\n",
      "4        5  Catarina            5  999876545\n",
      "5        6     Pedro            6  988763420\n"
     ]
    }
   ],
   "source": [
    "def join_nomes_telefones(database_name: str):\n",
    "    conn = sqlite3.connect(database_name)\n",
    "    # Query SQL para realizar o JOIN entre nomes e telefones usando a coluna id\n",
    "    query = \"\"\"\n",
    "        SELECT nomes.id AS id_nome, nomes.nome, telefones.id AS id_telefone, telefones.telefone\n",
    "        FROM nomes\n",
    "        LEFT JOIN telefones ON nomes.id = telefones.id\n",
    "    \"\"\"\n",
    "    # Executa a query e retorna um DataFrame pandas\n",
    "    df = pd.read_sql_query(query, conn)\n",
    "    conn.close()\n",
    "    return df\n",
    "# Realiza o JOIN entre nomes e telefones e obtém o resultado em um DataFrame\n",
    "\n",
    "result = join_nomes_telefones('agenda.db')\n",
    "# Exibe o resultado\n",
    "\n",
    "print(result)"
   ]
  },
  {
   "cell_type": "code",
   "execution_count": 64,
   "metadata": {},
   "outputs": [
    {
     "name": "stdout",
     "output_type": "stream",
     "text": [
      "   id_nome      nome  id_email                email\n",
      "0        1      João         1     joao@example.com\n",
      "1        2   Marcela         2  marcela@example.com\n",
      "2        3   Juliana         3  juliana@example.com\n",
      "3        4    Roseli         4   roseli@example.com\n",
      "4        5  Catarina         5     cata@example.com\n",
      "5        6     Pedro         6    pedro@example.com\n"
     ]
    }
   ],
   "source": [
    "def join_nomes_emails(database_name: str):\n",
    "    conn = sqlite3.connect(database_name)\n",
    "    # Query SQL para realizar o JOIN entre nomes e emails usando a coluna id\n",
    "    query = \"\"\"\n",
    "        SELECT nomes.id AS id_nome, nomes.nome, emails.id AS id_email, emails.email\n",
    "        FROM nomes\n",
    "        LEFT JOIN emails ON nomes.id = emails.id\n",
    "    \"\"\"\n",
    "    # Executa a query e retorna um DataFrame pandas\n",
    "    df = pd.read_sql_query(query, conn)\n",
    "    conn.close()\n",
    "    return df\n",
    "# Realiza o JOIN entre nomes e emails e obtém o resultado em um DataFrame\n",
    "\n",
    "result = join_nomes_emails('agenda.db')\n",
    "# Exibe o resultado\n",
    "\n",
    "print(result)"
   ]
  },
  {
   "cell_type": "code",
   "execution_count": 65,
   "metadata": {},
   "outputs": [],
   "source": [
    "create_table(\n",
    "    database_name = 'agenda.db',\n",
    "    table_name= 'nome',\n",
    "    columns = \"\"\"\n",
    "        id_nome INTEGER PRIMARY KEY,\n",
    "        nome TEXT NOT NULL,\n",
    "        id_idade INT\n",
    "    \"\"\"\n",
    ")"
   ]
  },
  {
   "cell_type": "code",
   "execution_count": 66,
   "metadata": {},
   "outputs": [],
   "source": [
    "create_table(\n",
    "    database_name = 'agenda.db',\n",
    "    table_name= 'telefone',\n",
    "    columns = \"\"\"\n",
    "        id_nome INTEGER PRIMARY KEY,\n",
    "        nome TEXT NOT NULL,\n",
    "        id_idade INT\n",
    "    \"\"\"\n",
    ")"
   ]
  },
  {
   "cell_type": "code",
   "execution_count": 67,
   "metadata": {},
   "outputs": [],
   "source": [
    "create_table(\n",
    "    database_name = 'agenda.db',\n",
    "    table_name= 'email',\n",
    "    columns = \"\"\"\n",
    "        id_nome INTEGER PRIMARY KEY,\n",
    "        nome TEXT NOT NULL,\n",
    "        id_idade INT\n",
    "    \"\"\"\n",
    ")"
   ]
  },
  {
   "cell_type": "code",
   "execution_count": 68,
   "metadata": {},
   "outputs": [
    {
     "ename": "OperationalError",
     "evalue": "no such table: nomes",
     "output_type": "error",
     "traceback": [
      "\u001b[0;31m---------------------------------------------------------------------------\u001b[0m",
      "\u001b[0;31mOperationalError\u001b[0m                          Traceback (most recent call last)",
      "Cell \u001b[0;32mIn[68], line 1\u001b[0m\n\u001b[0;32m----> 1\u001b[0m add_nome(\u001b[39m'\u001b[39;49m\u001b[39memail.db\u001b[39;49m\u001b[39m'\u001b[39;49m, \u001b[39m'\u001b[39;49m\u001b[39mJoão\u001b[39;49m\u001b[39m'\u001b[39;49m)\n",
      "\u001b[1;32m/workspaces/projeto_final_bd/functions/insert_data.py\u001b[0m in \u001b[0;36mline 4\u001b[0m, in \u001b[0;36madd_nome\u001b[0;34m(database_name, nome)\n\u001b[1;32m      <a href='file:///workspaces/projeto_final_bd/functions/insert_data.py?line=6'>7</a>\u001b[0m conn \u001b[39m=\u001b[39m sqlite3\u001b[39m.\u001b[39mconnect(database_name)\n\u001b[1;32m      <a href='file:///workspaces/projeto_final_bd/functions/insert_data.py?line=7'>8</a>\u001b[0m cursor \u001b[39m=\u001b[39m conn\u001b[39m.\u001b[39mcursor()\n\u001b[0;32m----> <a href='file:///workspaces/projeto_final_bd/functions/insert_data.py?line=8'>9</a>\u001b[0m cursor\u001b[39m.\u001b[39;49mexecute(\u001b[39m\"\"\"\u001b[39;49m\n\u001b[1;32m      <a href='file:///workspaces/projeto_final_bd/functions/insert_data.py?line=9'>10</a>\u001b[0m \u001b[39m    INSERT INTO nomes (nome) VALUES (?)\u001b[39;49m\n\u001b[1;32m      <a href='file:///workspaces/projeto_final_bd/functions/insert_data.py?line=10'>11</a>\u001b[0m \u001b[39m\u001b[39;49m\u001b[39m\"\"\"\u001b[39;49m, (nome,))\n\u001b[1;32m      <a href='file:///workspaces/projeto_final_bd/functions/insert_data.py?line=11'>12</a>\u001b[0m conn\u001b[39m.\u001b[39mcommit()\n\u001b[1;32m      <a href='file:///workspaces/projeto_final_bd/functions/insert_data.py?line=12'>13</a>\u001b[0m conn\u001b[39m.\u001b[39mclose()\n",
      "\u001b[0;31mOperationalError\u001b[0m: no such table: nomes"
     ]
    }
   ],
   "source": [
    "add_nome('email.db', 'João')"
   ]
  },
  {
   "cell_type": "code",
   "execution_count": 69,
   "metadata": {},
   "outputs": [],
   "source": [
    "add_nome('agenda.db', 'João')"
   ]
  }
 ],
 "metadata": {
  "kernelspec": {
   "display_name": "Python 3",
   "language": "python",
   "name": "python3"
  },
  "language_info": {
   "codemirror_mode": {
    "name": "ipython",
    "version": 3
   },
   "file_extension": ".py",
   "mimetype": "text/x-python",
   "name": "python",
   "nbconvert_exporter": "python",
   "pygments_lexer": "ipython3",
   "version": "3.10.13"
  }
 },
 "nbformat": 4,
 "nbformat_minor": 2
}
